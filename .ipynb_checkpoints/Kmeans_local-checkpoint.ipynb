{
 "cells": [
  {
   "cell_type": "code",
   "execution_count": 1,
   "metadata": {},
   "outputs": [
    {
     "name": "stdout",
     "output_type": "stream",
     "text": [
      "Data loaded\n"
     ]
    }
   ],
   "source": [
    "import csv\n",
    "import pandas as pd\n",
    "import numpy as np\n",
    "import random\n",
    "import matplotlib.pyplot as plt\n",
    "\n",
    "datafile = 'data.txt'\n",
    "data_ = pd.read_csv(datafile,sep=' ',header=None)\n",
    "\n",
    "# datafile = 'twitter_1000000.txt'\n",
    "# data_ = pd.read_csv(datafile,sep=' |\\t|[|]',header=None,engine='python')\n",
    "#print( data_ )\n",
    "print('Data loaded')"
   ]
  },
  {
   "cell_type": "code",
   "execution_count": 2,
   "metadata": {
    "collapsed": true
   },
   "outputs": [],
   "source": [
    "# Put data in array\n",
    "data = np.array(data_)\n",
    "n = np.shape(data)[0]"
   ]
  },
  {
   "cell_type": "code",
   "execution_count": 3,
   "metadata": {
    "collapsed": true
   },
   "outputs": [],
   "source": [
    "K = 2\n",
    "\n",
    "if K > n:\n",
    "    print('K is too high ! __ K>n __')\n",
    "if K == 1:\n",
    "    print('Are you serious ? __ K=1 __')\n",
    "if K == n:\n",
    "    print('Are you serious ? __ K=n __')"
   ]
  },
  {
   "cell_type": "code",
   "execution_count": 4,
   "metadata": {},
   "outputs": [
    {
     "data": {
      "text/plain": [
       "<function matplotlib.pyplot.show>"
      ]
     },
     "execution_count": 4,
     "metadata": {},
     "output_type": "execute_result"
    },
    {
     "data": {
      "image/png": "[encoded data removed]",
      "text/plain": [
       "<matplotlib.figure.Figure at 0x7f0a65216a20>"
      ]
     },
     "metadata": {},
     "output_type": "display_data"
    }
   ],
   "source": [
    "plt.scatter(data[:,1],data[:,2])\n",
    "plt.show"
   ]
  },
  {
   "cell_type": "code",
   "execution_count": 5,
   "metadata": {},
   "outputs": [
    {
     "data": {
      "text/plain": [
       "<function matplotlib.pyplot.show>"
      ]
     },
     "execution_count": 5,
     "metadata": {},
     "output_type": "execute_result"
    },
    {
     "data": {
      "image/png": "[encoded data removed]",
      "text/plain": [
       "<matplotlib.figure.Figure at 0x7f0a5d3bef98>"
      ]
     },
     "metadata": {},
     "output_type": "display_data"
    }
   ],
   "source": [
    "# Select initial centroids randomly \n",
    "centroids_cords = []\n",
    "centroids = []\n",
    "for i in range(K): \n",
    "    while True:\n",
    "        c = random.randint(0,n-1)\n",
    "        if not ( c in centroids ):\n",
    "            centroids.append(c)\n",
    "            centroids_cords.append( [data[c,1] , data[c,2]] )\n",
    "            break;\n",
    "\n",
    "cent_cords = np.array(centroids_cords)\n",
    "plt.scatter(data[:,1],data[:,2])\n",
    "plt.scatter(cent_cords[:,0],cent_cords[:,1])\n",
    "plt.show\n"
   ]
  },
  {
   "cell_type": "code",
   "execution_count": 6,
   "metadata": {
    "collapsed": true
   },
   "outputs": [],
   "source": [
    "# Returns the order of the closest centroid (value between 0 and K-1)\n",
    "#a: number of the point\n",
    "#centroids_cords: array of the coords of the centroids\n",
    "def closest_centroid(a,centroids_cords):\n",
    "    closest = centroids_cords[0]\n",
    "    d_ = (data[a,1] - closest[0])**2 + (data[a,2] - closest[1])**2\n",
    "    closest = 0\n",
    "    for i in range(1,K):\n",
    "        d = (data[a,1] - centroids_cords[i][0])**2 + (data[a,2] - centroids_cords[i][1])**2\n",
    "        if (d < d_) :\n",
    "            d_ = d\n",
    "            closest = i\n",
    "    return closest\n",
    "\n",
    "# CHECK REQUIRED IF SAME COORDS COEXIST            "
   ]
  },
  {
   "cell_type": "code",
   "execution_count": 7,
   "metadata": {},
   "outputs": [
    {
     "name": "stdout",
     "output_type": "stream",
     "text": [
      "success !\n"
     ]
    }
   ],
   "source": [
    "# basic test\n",
    "for k in range(K):\n",
    "    if ( not ( closest_centroid(centroids[k],centroids_cords)  == k ) ):\n",
    "        print (\"test failed for the %d-th centroid !\" % k)\n",
    "print (\"success !\")\n",
    "        "
   ]
  },
  {
   "cell_type": "code",
   "execution_count": 8,
   "metadata": {},
   "outputs": [
    {
     "name": "stdout",
     "output_type": "stream",
     "text": [
      "TERMINATED !!!\n"
     ]
    }
   ],
   "source": [
    "while True:\n",
    "    #FORM CLUSTERS\n",
    "    \n",
    "    # create empty clusters\n",
    "    clusters = {}\n",
    "    for i in range(K):\n",
    "        clusters[i] = []\n",
    "    \n",
    "    # adding points to associated clusters\n",
    "    for point in range(n):\n",
    "        closest = closest_centroid(point,centroids_cords)\n",
    "        if closest in clusters:\n",
    "            clusters[closest].append(point)\n",
    "        else:\n",
    "            print('UnexpectedError: closest centroid not in centroids')\n",
    "    \n",
    "    # Recompute centroids\n",
    "    new_centroids_cords = []\n",
    "    for c in range(K):\n",
    "        x = 0;\n",
    "        y = 0;\n",
    "        for i in clusters[c]:\n",
    "            x += data[i,1]\n",
    "            y += data[i,2]\n",
    "        new_centroids_cords.append([ x/len(clusters[c]) , y/len(clusters[c]) ])\n",
    "    \n",
    "    if np.allclose(centroids_cords, new_centroids_cords, rtol=1e-03):\n",
    "        break;\n",
    "    centroids_cords = new_centroids_cords\n",
    "\n",
    "print('TERMINATED !!!')\n",
    "    "
   ]
  },
  {
   "cell_type": "code",
   "execution_count": 9,
   "metadata": {},
   "outputs": [
    {
     "data": {
      "text/plain": [
       "{0: [0, 1, 2, 3, 7], 1: [4, 5, 6, 8, 9]}"
      ]
     },
     "execution_count": 9,
     "metadata": {},
     "output_type": "execute_result"
    }
   ],
   "source": [
    "clusters"
   ]
  },
  {
   "cell_type": "code",
   "execution_count": 10,
   "metadata": {},
   "outputs": [
    {
     "name": "stdout",
     "output_type": "stream",
     "text": [
      "[[15.4, 3.6000000000000001], [2.3999999999999999, 2.6000000000000001]]\n"
     ]
    }
   ],
   "source": [
    "# The final centroids retrieved\n",
    "print(new_centroids_cords)"
   ]
  },
  {
   "cell_type": "code",
   "execution_count": 11,
   "metadata": {},
   "outputs": [
    {
     "data": {
      "text/plain": [
       "<function matplotlib.pyplot.show>"
      ]
     },
     "execution_count": 11,
     "metadata": {},
     "output_type": "execute_result"
    },
    {
     "data": {
      "image/png": "[encoded data removed]",
      "text/plain": [
       "<matplotlib.figure.Figure at 0x7f0a5d3d2f60>"
      ]
     },
     "metadata": {},
     "output_type": "display_data"
    }
   ],
   "source": [
    "n_cent_cords = np.array(new_centroids_cords)\n",
    "plt.scatter(data[:,1],data[:,2])\n",
    "plt.scatter(n_cent_cords[:,0],n_cent_cords[:,1])\n",
    "plt.show"
   ]
  }
 ],
 "metadata": {
  "kernelspec": {
   "display_name": "Python 3",
   "language": "python",
   "name": "python3"
  },
  "language_info": {
   "codemirror_mode": {
    "name": "ipython",
    "version": 3
   },
   "file_extension": ".py",
   "mimetype": "text/x-python",
   "name": "python",
   "nbconvert_exporter": "python",
   "pygments_lexer": "ipython3",
   "version": "3.6.3"
  }
 },
 "nbformat": 4,
 "nbformat_minor": 2
}
